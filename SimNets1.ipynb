{
  "nbformat": 4,
  "nbformat_minor": 0,
  "metadata": {
    "colab": {
      "name": "SimNets1.ipynb",
      "provenance": [],
      "collapsed_sections": []
    },
    "kernelspec": {
      "name": "python3",
      "display_name": "Python 3"
    },
    "language_info": {
      "name": "python"
    },
    "widgets": {
      "application/vnd.jupyter.widget-state+json": {
        "628d1a642ece4f3daf1a79bce4031089": {
          "model_module": "@jupyter-widgets/controls",
          "model_name": "HBoxModel",
          "model_module_version": "1.5.0",
          "state": {
            "_dom_classes": [],
            "_model_module": "@jupyter-widgets/controls",
            "_model_module_version": "1.5.0",
            "_model_name": "HBoxModel",
            "_view_count": null,
            "_view_module": "@jupyter-widgets/controls",
            "_view_module_version": "1.5.0",
            "_view_name": "HBoxView",
            "box_style": "",
            "children": [
              "IPY_MODEL_3df7f25864a04939a2269892befa546c",
              "IPY_MODEL_f0d1e3f2b08b4d8db293a10268605d60",
              "IPY_MODEL_6d421745afe544ad970df1da654b6d57"
            ],
            "layout": "IPY_MODEL_b18de8743e31436885d39d3504e2b959"
          }
        },
        "3df7f25864a04939a2269892befa546c": {
          "model_module": "@jupyter-widgets/controls",
          "model_name": "HTMLModel",
          "model_module_version": "1.5.0",
          "state": {
            "_dom_classes": [],
            "_model_module": "@jupyter-widgets/controls",
            "_model_module_version": "1.5.0",
            "_model_name": "HTMLModel",
            "_view_count": null,
            "_view_module": "@jupyter-widgets/controls",
            "_view_module_version": "1.5.0",
            "_view_name": "HTMLView",
            "description": "",
            "description_tooltip": null,
            "layout": "IPY_MODEL_f0687836e6fb4f35bb8d2bc000e483a4",
            "placeholder": "​",
            "style": "IPY_MODEL_fdc22bc5289d4580a7e989cac2d8824e",
            "value": "100%"
          }
        },
        "f0d1e3f2b08b4d8db293a10268605d60": {
          "model_module": "@jupyter-widgets/controls",
          "model_name": "FloatProgressModel",
          "model_module_version": "1.5.0",
          "state": {
            "_dom_classes": [],
            "_model_module": "@jupyter-widgets/controls",
            "_model_module_version": "1.5.0",
            "_model_name": "FloatProgressModel",
            "_view_count": null,
            "_view_module": "@jupyter-widgets/controls",
            "_view_module_version": "1.5.0",
            "_view_name": "ProgressView",
            "bar_style": "success",
            "description": "",
            "description_tooltip": null,
            "layout": "IPY_MODEL_94cf5fe5983a4916b9e1ba645096c378",
            "max": 170498071,
            "min": 0,
            "orientation": "horizontal",
            "style": "IPY_MODEL_aacba404fea04ae5af4ceee81d4e76c2",
            "value": 170498071
          }
        },
        "6d421745afe544ad970df1da654b6d57": {
          "model_module": "@jupyter-widgets/controls",
          "model_name": "HTMLModel",
          "model_module_version": "1.5.0",
          "state": {
            "_dom_classes": [],
            "_model_module": "@jupyter-widgets/controls",
            "_model_module_version": "1.5.0",
            "_model_name": "HTMLModel",
            "_view_count": null,
            "_view_module": "@jupyter-widgets/controls",
            "_view_module_version": "1.5.0",
            "_view_name": "HTMLView",
            "description": "",
            "description_tooltip": null,
            "layout": "IPY_MODEL_2b1b2de8005a4587aecf75b564914090",
            "placeholder": "​",
            "style": "IPY_MODEL_7efae7370a3e4250ba4bf6d9c5131d57",
            "value": " 170498071/170498071 [00:01&lt;00:00, 94555891.49it/s]"
          }
        },
        "b18de8743e31436885d39d3504e2b959": {
          "model_module": "@jupyter-widgets/base",
          "model_name": "LayoutModel",
          "model_module_version": "1.2.0",
          "state": {
            "_model_module": "@jupyter-widgets/base",
            "_model_module_version": "1.2.0",
            "_model_name": "LayoutModel",
            "_view_count": null,
            "_view_module": "@jupyter-widgets/base",
            "_view_module_version": "1.2.0",
            "_view_name": "LayoutView",
            "align_content": null,
            "align_items": null,
            "align_self": null,
            "border": null,
            "bottom": null,
            "display": null,
            "flex": null,
            "flex_flow": null,
            "grid_area": null,
            "grid_auto_columns": null,
            "grid_auto_flow": null,
            "grid_auto_rows": null,
            "grid_column": null,
            "grid_gap": null,
            "grid_row": null,
            "grid_template_areas": null,
            "grid_template_columns": null,
            "grid_template_rows": null,
            "height": null,
            "justify_content": null,
            "justify_items": null,
            "left": null,
            "margin": null,
            "max_height": null,
            "max_width": null,
            "min_height": null,
            "min_width": null,
            "object_fit": null,
            "object_position": null,
            "order": null,
            "overflow": null,
            "overflow_x": null,
            "overflow_y": null,
            "padding": null,
            "right": null,
            "top": null,
            "visibility": null,
            "width": null
          }
        },
        "f0687836e6fb4f35bb8d2bc000e483a4": {
          "model_module": "@jupyter-widgets/base",
          "model_name": "LayoutModel",
          "model_module_version": "1.2.0",
          "state": {
            "_model_module": "@jupyter-widgets/base",
            "_model_module_version": "1.2.0",
            "_model_name": "LayoutModel",
            "_view_count": null,
            "_view_module": "@jupyter-widgets/base",
            "_view_module_version": "1.2.0",
            "_view_name": "LayoutView",
            "align_content": null,
            "align_items": null,
            "align_self": null,
            "border": null,
            "bottom": null,
            "display": null,
            "flex": null,
            "flex_flow": null,
            "grid_area": null,
            "grid_auto_columns": null,
            "grid_auto_flow": null,
            "grid_auto_rows": null,
            "grid_column": null,
            "grid_gap": null,
            "grid_row": null,
            "grid_template_areas": null,
            "grid_template_columns": null,
            "grid_template_rows": null,
            "height": null,
            "justify_content": null,
            "justify_items": null,
            "left": null,
            "margin": null,
            "max_height": null,
            "max_width": null,
            "min_height": null,
            "min_width": null,
            "object_fit": null,
            "object_position": null,
            "order": null,
            "overflow": null,
            "overflow_x": null,
            "overflow_y": null,
            "padding": null,
            "right": null,
            "top": null,
            "visibility": null,
            "width": null
          }
        },
        "fdc22bc5289d4580a7e989cac2d8824e": {
          "model_module": "@jupyter-widgets/controls",
          "model_name": "DescriptionStyleModel",
          "model_module_version": "1.5.0",
          "state": {
            "_model_module": "@jupyter-widgets/controls",
            "_model_module_version": "1.5.0",
            "_model_name": "DescriptionStyleModel",
            "_view_count": null,
            "_view_module": "@jupyter-widgets/base",
            "_view_module_version": "1.2.0",
            "_view_name": "StyleView",
            "description_width": ""
          }
        },
        "94cf5fe5983a4916b9e1ba645096c378": {
          "model_module": "@jupyter-widgets/base",
          "model_name": "LayoutModel",
          "model_module_version": "1.2.0",
          "state": {
            "_model_module": "@jupyter-widgets/base",
            "_model_module_version": "1.2.0",
            "_model_name": "LayoutModel",
            "_view_count": null,
            "_view_module": "@jupyter-widgets/base",
            "_view_module_version": "1.2.0",
            "_view_name": "LayoutView",
            "align_content": null,
            "align_items": null,
            "align_self": null,
            "border": null,
            "bottom": null,
            "display": null,
            "flex": null,
            "flex_flow": null,
            "grid_area": null,
            "grid_auto_columns": null,
            "grid_auto_flow": null,
            "grid_auto_rows": null,
            "grid_column": null,
            "grid_gap": null,
            "grid_row": null,
            "grid_template_areas": null,
            "grid_template_columns": null,
            "grid_template_rows": null,
            "height": null,
            "justify_content": null,
            "justify_items": null,
            "left": null,
            "margin": null,
            "max_height": null,
            "max_width": null,
            "min_height": null,
            "min_width": null,
            "object_fit": null,
            "object_position": null,
            "order": null,
            "overflow": null,
            "overflow_x": null,
            "overflow_y": null,
            "padding": null,
            "right": null,
            "top": null,
            "visibility": null,
            "width": null
          }
        },
        "aacba404fea04ae5af4ceee81d4e76c2": {
          "model_module": "@jupyter-widgets/controls",
          "model_name": "ProgressStyleModel",
          "model_module_version": "1.5.0",
          "state": {
            "_model_module": "@jupyter-widgets/controls",
            "_model_module_version": "1.5.0",
            "_model_name": "ProgressStyleModel",
            "_view_count": null,
            "_view_module": "@jupyter-widgets/base",
            "_view_module_version": "1.2.0",
            "_view_name": "StyleView",
            "bar_color": null,
            "description_width": ""
          }
        },
        "2b1b2de8005a4587aecf75b564914090": {
          "model_module": "@jupyter-widgets/base",
          "model_name": "LayoutModel",
          "model_module_version": "1.2.0",
          "state": {
            "_model_module": "@jupyter-widgets/base",
            "_model_module_version": "1.2.0",
            "_model_name": "LayoutModel",
            "_view_count": null,
            "_view_module": "@jupyter-widgets/base",
            "_view_module_version": "1.2.0",
            "_view_name": "LayoutView",
            "align_content": null,
            "align_items": null,
            "align_self": null,
            "border": null,
            "bottom": null,
            "display": null,
            "flex": null,
            "flex_flow": null,
            "grid_area": null,
            "grid_auto_columns": null,
            "grid_auto_flow": null,
            "grid_auto_rows": null,
            "grid_column": null,
            "grid_gap": null,
            "grid_row": null,
            "grid_template_areas": null,
            "grid_template_columns": null,
            "grid_template_rows": null,
            "height": null,
            "justify_content": null,
            "justify_items": null,
            "left": null,
            "margin": null,
            "max_height": null,
            "max_width": null,
            "min_height": null,
            "min_width": null,
            "object_fit": null,
            "object_position": null,
            "order": null,
            "overflow": null,
            "overflow_x": null,
            "overflow_y": null,
            "padding": null,
            "right": null,
            "top": null,
            "visibility": null,
            "width": null
          }
        },
        "7efae7370a3e4250ba4bf6d9c5131d57": {
          "model_module": "@jupyter-widgets/controls",
          "model_name": "DescriptionStyleModel",
          "model_module_version": "1.5.0",
          "state": {
            "_model_module": "@jupyter-widgets/controls",
            "_model_module_version": "1.5.0",
            "_model_name": "DescriptionStyleModel",
            "_view_count": null,
            "_view_module": "@jupyter-widgets/base",
            "_view_module_version": "1.2.0",
            "_view_name": "StyleView",
            "description_width": ""
          }
        }
      }
    }
  },
  "cells": [
    {
      "cell_type": "code",
      "source": [
        "!pip install torchinfo\n",
        "!pip install torch\n",
        "!pip install sklearn"
      ],
      "metadata": {
        "id": "_PcbgXEvOE_h"
      },
      "execution_count": null,
      "outputs": []
    },
    {
      "cell_type": "code",
      "source": [
        "\n",
        "import torch\n",
        "import torch.nn as nn\n",
        "import torchvision\n",
        "import torchvision.transforms as transforms\n",
        "import numpy as np\n",
        "from torchinfo import summary\n",
        "from torch.utils.data import DataLoader, Subset\n",
        "from sklearn.model_selection import train_test_split"
      ],
      "metadata": {
        "id": "MDeS--mINlqH"
      },
      "execution_count": 82,
      "outputs": []
    },
    {
      "cell_type": "code",
      "source": [
        "device = torch.device('cpu')\n",
        "num_epochs = 5\n",
        "learning_rate = 0.001\n",
        "reg_constant = 1\n",
        "L_norm = 1"
      ],
      "metadata": {
        "id": "uggHbgPzXIae"
      },
      "execution_count": 114,
      "outputs": []
    },
    {
      "cell_type": "code",
      "source": [
        "def conv3x3(in_channels, out_channels, stride=1):\n",
        "    return nn.Conv2d(in_channels, out_channels, kernel_size=3, \n",
        "                     stride=stride, padding=1, bias=False)\n",
        "\n",
        "# Residual block\n",
        "class ResidualBlock(nn.Module):\n",
        "    def __init__(self, in_channels, out_channels, stride=1, downsample=None):\n",
        "        super(ResidualBlock, self).__init__()\n",
        "        self.conv1 = conv3x3(in_channels, out_channels, stride)\n",
        "        self.bn1 = nn.BatchNorm2d(out_channels)\n",
        "        self.relu = nn.ReLU(inplace=True)\n",
        "        self.conv2 = conv3x3(out_channels, out_channels)\n",
        "        self.bn2 = nn.BatchNorm2d(out_channels)\n",
        "        self.downsample = downsample\n",
        "\n",
        "    def forward(self, x):\n",
        "        residual = x\n",
        "        out = self.conv1(x)\n",
        "        out = self.bn1(out)\n",
        "        out = self.relu(out)\n",
        "        out = self.conv2(out)\n",
        "        out = self.bn2(out)\n",
        "        if self.downsample:\n",
        "            residual = self.downsample(x)\n",
        "        out += residual\n",
        "        out = self.relu(out)\n",
        "        return out\n",
        "\n",
        "# ResNet\n",
        "class ResNet(nn.Module):\n",
        "    def __init__(self, block, layers, num_classes=10):\n",
        "        super(ResNet, self).__init__()\n",
        "        self.in_channels = 16\n",
        "        self.conv = conv3x3(3, 16)\n",
        "        self.bn = nn.BatchNorm2d(16)\n",
        "        self.relu = nn.ReLU(inplace=True)\n",
        "        self.layer1 = self.make_layer(block, 16, layers[0])\n",
        "        self.layer2 = self.make_layer(block, 32, layers[1], 2)\n",
        "        self.layer3 = self.make_layer(block, 64, layers[2], 2)\n",
        "        self.avg_pool = nn.AvgPool2d(8)\n",
        "        self.fc = nn.Linear(64, num_classes)\n",
        "\n",
        "    def make_layer(self, block, out_channels, blocks, stride=1):\n",
        "        downsample = None\n",
        "        if (stride != 1) or (self.in_channels != out_channels):\n",
        "            downsample = nn.Sequential(\n",
        "                conv3x3(self.in_channels, out_channels, stride=stride),\n",
        "                nn.BatchNorm2d(out_channels))\n",
        "        layers = []\n",
        "        layers.append(block(self.in_channels, out_channels, stride, downsample))\n",
        "        self.in_channels = out_channels\n",
        "        for i in range(1, blocks):\n",
        "            layers.append(block(out_channels, out_channels))\n",
        "        return nn.Sequential(*layers)\n",
        "\n",
        "    def forward(self, x):\n",
        "        out = self.conv(x)\n",
        "        out = self.bn(out)\n",
        "        out = self.relu(out)\n",
        "        out = self.layer1(out)\n",
        "        out = self.layer2(out)\n",
        "        out = self.layer3(out)\n",
        "        out = self.avg_pool(out)\n",
        "        out = out.view(out.size(0), -1)\n",
        "        out = self.fc(out)\n",
        "        return out\n",
        "\n",
        "model1 = ResNet(ResidualBlock, [2, 2, 2]).to(device)\n",
        "model2 = model1\n"
      ],
      "metadata": {
        "id": "tjSpr6jTW4jA"
      },
      "execution_count": 111,
      "outputs": []
    },
    {
      "cell_type": "code",
      "execution_count": 15,
      "metadata": {
        "colab": {
          "base_uri": "https://localhost:8080/",
          "height": 84,
          "referenced_widgets": [
            "628d1a642ece4f3daf1a79bce4031089",
            "3df7f25864a04939a2269892befa546c",
            "f0d1e3f2b08b4d8db293a10268605d60",
            "6d421745afe544ad970df1da654b6d57",
            "b18de8743e31436885d39d3504e2b959",
            "f0687836e6fb4f35bb8d2bc000e483a4",
            "fdc22bc5289d4580a7e989cac2d8824e",
            "94cf5fe5983a4916b9e1ba645096c378",
            "aacba404fea04ae5af4ceee81d4e76c2",
            "2b1b2de8005a4587aecf75b564914090",
            "7efae7370a3e4250ba4bf6d9c5131d57"
          ]
        },
        "id": "2kSsMUBpMflx",
        "outputId": "f77e35c3-307c-4082-f94f-836e9a35706b"
      },
      "outputs": [
        {
          "output_type": "stream",
          "name": "stdout",
          "text": [
            "Downloading https://www.cs.toronto.edu/~kriz/cifar-10-python.tar.gz to data/cifar-10-python.tar.gz\n"
          ]
        },
        {
          "output_type": "display_data",
          "data": {
            "text/plain": [
              "  0%|          | 0/170498071 [00:00<?, ?it/s]"
            ],
            "application/vnd.jupyter.widget-view+json": {
              "version_major": 2,
              "version_minor": 0,
              "model_id": "628d1a642ece4f3daf1a79bce4031089"
            }
          },
          "metadata": {}
        },
        {
          "output_type": "stream",
          "name": "stdout",
          "text": [
            "Extracting data/cifar-10-python.tar.gz to data/\n"
          ]
        }
      ],
      "source": [
        "# Image preprocessing modules - CIFAR\n",
        "transform = transforms.Compose([\n",
        "    transforms.Pad(4),\n",
        "    transforms.RandomHorizontalFlip(),\n",
        "    transforms.RandomCrop(32),\n",
        "    transforms.ToTensor()])\n",
        "\n",
        "# CIFAR-10 dataset\n",
        "train_dataset1 = torchvision.datasets.CIFAR10(root='data/',\n",
        "                                             train=True, \n",
        "                                             transform=transform,\n",
        "                                             download=True)\n",
        "\n",
        "test_dataset1 = torchvision.datasets.CIFAR10(root='data/',\n",
        "                                            train=False, \n",
        "                                            transform=transforms.ToTensor())\n",
        "\n",
        "# Data loader\n",
        "train_loader1 = torch.utils.data.DataLoader(dataset=train_dataset1,\n",
        "                                           batch_size=100, \n",
        "                                           shuffle=True)\n",
        "\n",
        "test_loader1 = torch.utils.data.DataLoader(dataset=test_dataset1,\n",
        "                                          batch_size=100, \n",
        "                                          shuffle=False)"
      ]
    },
    {
      "cell_type": "code",
      "source": [
        "# Image preprocessing modules - EuroSAT\n",
        "transform = transforms.Compose([\n",
        "    transforms.Pad(4),\n",
        "    transforms.RandomHorizontalFlip(),\n",
        "    transforms.RandomCrop(32),\n",
        "    transforms.ToTensor()])\n",
        "\n",
        "# EuroSAT dataset - need to split into training data and test data\n",
        "TEST_SIZE = 0.15 #similar to CIFAR\n",
        "SEED = 42\n",
        "data2 = torchvision.datasets.EuroSAT(root='data/',\n",
        "                                             transform=transform,\n",
        "                                             download=True)\n",
        "\n",
        "# generate indices: instead of the actual data we pass in integers instead\n",
        "train_indices, test_indices, _, _ = train_test_split(\n",
        "    range(len(data2)),\n",
        "    data2.targets,\n",
        "    stratify=data2.targets,\n",
        "    test_size=TEST_SIZE,\n",
        "    random_state=SEED)\n",
        "\n",
        "#Putting them into train/test\n",
        "train_dataset2 = Subset(data2, train_indices)\n",
        "test_dataset2 = Subset(data2, test_indices)\n",
        "\n",
        "# Data loader\n",
        "train_loader2 = torch.utils.data.DataLoader(dataset=train_dataset2,\n",
        "                                           batch_size=100, \n",
        "                                           shuffle=True)\n",
        "\n",
        "test_loader2 = torch.utils.data.DataLoader(dataset=test_dataset2,\n",
        "                                          batch_size=100, \n",
        "                                          shuffle=False)"
      ],
      "metadata": {
        "id": "GPwshyVoPKv0"
      },
      "execution_count": 106,
      "outputs": []
    },
    {
      "cell_type": "code",
      "source": [
        "# Loss and optimizer - Need to be careful here, something going on here\n",
        "criterion = nn.CrossEntropyLoss()\n",
        "optimizer1 = torch.optim.Adam(model1.parameters(), lr=learning_rate)\n",
        "\n",
        "criterion = nn.CrossEntropyLoss()\n",
        "optimizer2 = torch.optim.Adam(model2.parameters(), lr=learning_rate)\n",
        "\n",
        "# For updating learning rate\n",
        "def update_lr(optimizer, lr):    \n",
        "    for param_group in optimizer.param_groups:\n",
        "        param_group['lr'] = lr\n"
      ],
      "metadata": {
        "id": "IIp9G-vsS9tp"
      },
      "execution_count": 107,
      "outputs": []
    },
    {
      "cell_type": "code",
      "source": [
        "# Train the model -Here is the meat: train them simultaneously (so inside epoch loop), optimising for simmilarity\n",
        "# Want to maybe change the regularising coefficient over time? Start by prioritising being a good classifer and then make the regulariser matter more/ making it flip between big and small regulasriser\n",
        "\n",
        "m1w = torch.nn.utils.parameters_to_vector(model1.parameters())\n",
        "m2w = torch.nn.utils.parameters_to_vector(model2.parameters())\n",
        "\n",
        "total_step = min(len(train_loader1),len(train_loader2)) #need to maake sure this is same for both models?\n",
        "curr_lr = learning_rate\n",
        "for epoch in range(num_epochs):\n",
        "    for i, (images, labels) in enumerate(train_loader1):\n",
        "        images = images.to(device)\n",
        "        labels = labels.to(device)\n",
        "\n",
        "        # Forward pass\n",
        "        outputs = model1(images)\n",
        "        loss = criterion(outputs, labels) + norm(m2w - torch.nn.utils.parameters_to_vector(model1.parameters()),L_norm) #add + regularisation (but only on conv layers not lin layers)\n",
        "\n",
        "        # Backward and optimize\n",
        "        optimizer1.zero_grad()\n",
        "        loss.backward()\n",
        "        optimizer1.step()\n",
        "\n",
        "        if (i+1) % 100 == 0:\n",
        "            print (\"Epoch [{}/{}], Step [{}/{}] Loss: {:.4f}\"\n",
        "                   .format(epoch+1, num_epochs, i+1, total_step, loss.item()))\n",
        "\n",
        "    # Decay learning rate\n",
        "    if (epoch+1) % 20 == 0:\n",
        "        curr_lr /= 3\n",
        "        update_lr(optimizer1, curr_lr)\n",
        "\n",
        "    #Store New Weights\n",
        "    m1w = torch.nn.utils.parameters_to_vector(model1.parameters())\n",
        "     \n",
        "    # For EuroSAT\n",
        "    for i, (images, labels) in enumerate(train_loader2):\n",
        "        images = images.to(device)\n",
        "        labels = labels.to(device)\n",
        "\n",
        "        # Forward pass\n",
        "        outputs = model2(images)\n",
        "        loss = criterion(outputs, labels)  + norm(m1w - torch.nn.utils.parameters_to_vector(model2.parameters()),L_norm) #add + regularisation (but only on conv layers not lin layers)\n",
        "\n",
        "        # Backward and optimize\n",
        "        optimizer2.zero_grad()\n",
        "        loss.backward()\n",
        "        optimizer2.step()\n",
        "\n",
        "        if (i+1) % 100 == 0:\n",
        "            print (\"Epoch [{}/{}], Step [{}/{}] Loss: {:.4f}\"\n",
        "                   .format(epoch+1, num_epochs, i+1, total_step, loss.item()))\n",
        "\n",
        "    # Decay learning rate\n",
        "    if (epoch+1) % 20 == 0:\n",
        "        curr_lr /= 3\n",
        "        update_lr(optimizer2, curr_lr)\n",
        "\n",
        "    #Store New Weights\n",
        "    m2w = torch.nn.utils.parameters_to_vector(model2.parameters())"
      ],
      "metadata": {
        "colab": {
          "base_uri": "https://localhost:8080/"
        },
        "id": "xnN-OUyaXTM5",
        "outputId": "3536a1cf-c572-4c20-c9de-2d644cd4c13f"
      },
      "execution_count": 112,
      "outputs": [
        {
          "output_type": "stream",
          "name": "stdout",
          "text": [
            "Epoch [1/5], Step [100/230] Loss: 2.3728\n",
            "Epoch [1/5], Step [200/230] Loss: 2.3779\n",
            "Epoch [1/5], Step [300/230] Loss: 2.3939\n",
            "Epoch [1/5], Step [400/230] Loss: 2.3527\n",
            "Epoch [1/5], Step [500/230] Loss: 2.4174\n",
            "Epoch [1/5], Step [100/230] Loss: 2.3977\n",
            "Epoch [1/5], Step [200/230] Loss: 2.3970\n",
            "Epoch [2/5], Step [100/230] Loss: 2.4287\n",
            "Epoch [2/5], Step [200/230] Loss: 2.4171\n",
            "Epoch [2/5], Step [300/230] Loss: 2.4155\n",
            "Epoch [2/5], Step [400/230] Loss: 2.5280\n",
            "Epoch [2/5], Step [500/230] Loss: 2.4813\n",
            "Epoch [2/5], Step [100/230] Loss: 2.4359\n",
            "Epoch [2/5], Step [200/230] Loss: 2.4614\n",
            "Epoch [3/5], Step [100/230] Loss: 2.4280\n",
            "Epoch [3/5], Step [200/230] Loss: 2.3468\n",
            "Epoch [3/5], Step [300/230] Loss: 2.4196\n",
            "Epoch [3/5], Step [400/230] Loss: 2.3786\n",
            "Epoch [3/5], Step [500/230] Loss: 2.4074\n",
            "Epoch [3/5], Step [100/230] Loss: 2.4281\n",
            "Epoch [3/5], Step [200/230] Loss: 2.4324\n",
            "Epoch [4/5], Step [100/230] Loss: 2.3892\n",
            "Epoch [4/5], Step [200/230] Loss: 2.4395\n",
            "Epoch [4/5], Step [300/230] Loss: 2.3952\n",
            "Epoch [4/5], Step [400/230] Loss: 2.4267\n",
            "Epoch [4/5], Step [500/230] Loss: 2.3480\n",
            "Epoch [4/5], Step [100/230] Loss: 2.3884\n",
            "Epoch [4/5], Step [200/230] Loss: 2.4947\n",
            "Epoch [5/5], Step [100/230] Loss: 2.4470\n",
            "Epoch [5/5], Step [200/230] Loss: 2.4470\n",
            "Epoch [5/5], Step [300/230] Loss: 2.2940\n",
            "Epoch [5/5], Step [400/230] Loss: 2.4464\n",
            "Epoch [5/5], Step [500/230] Loss: 2.4385\n",
            "Epoch [5/5], Step [100/230] Loss: 2.4445\n",
            "Epoch [5/5], Step [200/230] Loss: 2.3807\n"
          ]
        }
      ]
    },
    {
      "cell_type": "code",
      "source": [
        "# Test the model\n",
        "model1.eval()\n",
        "with torch.no_grad():\n",
        "    correct = 0\n",
        "    total = 0\n",
        "    for images, labels in test_loader1:\n",
        "        images = images.to(device)\n",
        "        labels = labels.to(device)\n",
        "        outputs = model1(images)\n",
        "        _, predicted = torch.max(outputs.data, 1)\n",
        "        total += labels.size(0)\n",
        "        correct += (predicted == labels).sum().item()\n",
        "\n",
        "    print('Accuracy of the CIFAR model on the test images: {} %'.format(100 * correct / total))\n",
        "\n",
        "    model2.eval()\n",
        "with torch.no_grad():\n",
        "    correct = 0\n",
        "    total = 0\n",
        "    for images, labels in test_loader2:\n",
        "        images = images.to(device)\n",
        "        labels = labels.to(device)\n",
        "        outputs = model2(images)\n",
        "        _, predicted = torch.max(outputs.data, 1)\n",
        "        total += labels.size(0)\n",
        "        correct += (predicted == labels).sum().item()\n",
        "\n",
        "    print('Accuracy of the EuroSAT model on the test images: {} %'.format(100 * correct / total))"
      ],
      "metadata": {
        "colab": {
          "base_uri": "https://localhost:8080/"
        },
        "id": "bUNjFMW1ZejA",
        "outputId": "ff0e00f3-6af6-4c3d-cb9b-076be12e980c"
      },
      "execution_count": 113,
      "outputs": [
        {
          "output_type": "stream",
          "name": "stdout",
          "text": [
            "Accuracy of the CIFAR model on the test images: 10.05 %\n",
            "Accuracy of the EuroSAT model on the test images: 7.530864197530864 %\n"
          ]
        }
      ]
    },
    {
      "cell_type": "code",
      "source": [
        "#Save the model checkpoint\n",
        "torch.save(model1.state_dict(), 'resnet.ckpt')\n",
        "torch.save(model2.state_dict(), 'resnet.ckpt')"
      ],
      "metadata": {
        "id": "RvJTRFZndm-f"
      },
      "execution_count": 36,
      "outputs": []
    },
    {
      "cell_type": "code",
      "source": [
        "summary(model1,input_size = (1,3,32,32), verbose= 2)"
      ],
      "metadata": {
        "id": "3ow3DmzXnO8o"
      },
      "execution_count": null,
      "outputs": []
    },
    {
      "cell_type": "code",
      "source": [
        "from torch.functional import norm\n",
        "m1w = torch.nn.utils.parameters_to_vector(model1.parameters())\n",
        "len(m1w)\n",
        "\n",
        "m2w = torch.nn.utils.parameters_to_vector(model2.parameters())\n",
        "len(m2w)\n",
        "\n",
        "len(m1w-m2w)\n",
        "norm(m1w-m2w,L_norm)"
      ],
      "metadata": {
        "colab": {
          "base_uri": "https://localhost:8080/"
        },
        "id": "5mTLkTtirEd9",
        "outputId": "d53fdb1c-a25c-4642-d71b-56882c0c069e"
      },
      "execution_count": 90,
      "outputs": [
        {
          "output_type": "execute_result",
          "data": {
            "text/plain": [
              "tensor(7798.6782, grad_fn=<NormBackward1>)"
            ]
          },
          "metadata": {},
          "execution_count": 90
        }
      ]
    },
    {
      "cell_type": "code",
      "source": [
        "#nrm = norm(m1w-m2w,L_norm)"
      ],
      "metadata": {
        "colab": {
          "base_uri": "https://localhost:8080/"
        },
        "id": "YUvTlcta6CDq",
        "outputId": "574bb98a-8fb9-42fc-d356-69f2b8c20875"
      },
      "execution_count": 102,
      "outputs": [
        {
          "output_type": "execute_result",
          "data": {
            "text/plain": [
              "tensor(15597.3564, grad_fn=<MulBackward0>)"
            ]
          },
          "metadata": {},
          "execution_count": 102
        }
      ]
    }
  ]
}
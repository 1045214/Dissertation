{
  "cells": [
    {
      "cell_type": "markdown",
      "metadata": {
        "id": "view-in-github",
        "colab_type": "text"
      },
      "source": [
        "<a href=\"https://colab.research.google.com/github/Mhobo/SimNets/blob/main/SimNets1.ipynb\" target=\"_parent\"><img src=\"https://colab.research.google.com/assets/colab-badge.svg\" alt=\"Open In Colab\"/></a>"
      ]
    },
    {
      "cell_type": "code",
      "execution_count": null,
      "metadata": {
        "colab": {
          "base_uri": "https://localhost:8080/"
        },
        "id": "_PcbgXEvOE_h",
        "outputId": "8ab0b378-87d1-4c50-bcbf-3c19e0b7a031"
      },
      "outputs": [
        {
          "name": "stdout",
          "output_type": "stream",
          "text": [
            "Looking in indexes: https://pypi.org/simple, https://us-python.pkg.dev/colab-wheels/public/simple/\n",
            "Requirement already satisfied: torchinfo in /usr/local/lib/python3.7/dist-packages (1.7.0)\n",
            "Looking in indexes: https://pypi.org/simple, https://us-python.pkg.dev/colab-wheels/public/simple/\n",
            "Requirement already satisfied: torch in /usr/local/lib/python3.7/dist-packages (1.12.0+cu113)\n",
            "Requirement already satisfied: typing-extensions in /usr/local/lib/python3.7/dist-packages (from torch) (4.1.1)\n",
            "Looking in indexes: https://pypi.org/simple, https://us-python.pkg.dev/colab-wheels/public/simple/\n",
            "Requirement already satisfied: sklearn in /usr/local/lib/python3.7/dist-packages (0.0)\n",
            "Requirement already satisfied: scikit-learn in /usr/local/lib/python3.7/dist-packages (from sklearn) (1.0.2)\n",
            "Requirement already satisfied: numpy>=1.14.6 in /usr/local/lib/python3.7/dist-packages (from scikit-learn->sklearn) (1.21.6)\n",
            "Requirement already satisfied: threadpoolctl>=2.0.0 in /usr/local/lib/python3.7/dist-packages (from scikit-learn->sklearn) (3.1.0)\n",
            "Requirement already satisfied: joblib>=0.11 in /usr/local/lib/python3.7/dist-packages (from scikit-learn->sklearn) (1.1.0)\n",
            "Requirement already satisfied: scipy>=1.1.0 in /usr/local/lib/python3.7/dist-packages (from scikit-learn->sklearn) (1.7.3)\n",
            "Looking in indexes: https://pypi.org/simple, https://us-python.pkg.dev/colab-wheels/public/simple/\n",
            "Requirement already satisfied: keras in /usr/local/lib/python3.7/dist-packages (2.8.0)\n",
            "Looking in indexes: https://pypi.org/simple, https://us-python.pkg.dev/colab-wheels/public/simple/\n",
            "Collecting ann_visualizer\n",
            "  Downloading ann_visualizer-2.5.tar.gz (4.7 kB)\n",
            "Building wheels for collected packages: ann-visualizer\n",
            "  Building wheel for ann-visualizer (setup.py) ... \u001b[?25l\u001b[?25hdone\n",
            "  Created wheel for ann-visualizer: filename=ann_visualizer-2.5-py3-none-any.whl size=4168 sha256=42b67d3ffe65317ac77da431f37175404aca5f70103463bf7eef2e0a9e2d3f5f\n",
            "  Stored in directory: /root/.cache/pip/wheels/1b/fc/58/2ab1c3b30350105929308becddda4fb59b1358e54f985e1f4a\n",
            "Successfully built ann-visualizer\n",
            "Installing collected packages: ann-visualizer\n",
            "Successfully installed ann-visualizer-2.5\n",
            "Looking in indexes: https://pypi.org/simple, https://us-python.pkg.dev/colab-wheels/public/simple/\n",
            "Requirement already satisfied: graphviz in /usr/local/lib/python3.7/dist-packages (0.10.1)\n"
          ]
        }
      ],
      "source": [
        "!pip install torchinfo\n",
        "!pip install torch\n",
        "!pip install sklearn\n",
        "\n",
        "# For visualisation: - uses this https://towardsdatascience.com/visualizing-artificial-neural-networks-anns-with-just-one-line-of-code-b4233607209e#:~:text=ANN%20Visualizer%20is%20a%20python,neural%20network%20you're%20building.\n",
        "# Needs NN to have attribute 'layers', could manipulate code to do this but idk if thats what I want (model current has attributes ''layer1' 'layer2' etc.)\n",
        "!pip3 install keras\n",
        "!pip3 install ann_visualizer\n",
        "!pip install graphviz"
      ]
    },
    {
      "cell_type": "code",
      "execution_count": null,
      "metadata": {
        "id": "MDeS--mINlqH"
      },
      "outputs": [],
      "source": [
        "import torch\n",
        "import torch.nn as nn\n",
        "import torchvision\n",
        "import torchvision.transforms as transforms\n",
        "import numpy as np\n",
        "from torchinfo import summary\n",
        "from torch.utils.data import DataLoader, Subset\n",
        "from sklearn.model_selection import train_test_split\n",
        "from torch.functional import norm"
      ]
    },
    {
      "cell_type": "code",
      "execution_count": 64,
      "metadata": {
        "id": "uggHbgPzXIae"
      },
      "outputs": [],
      "source": [
        "device = torch.device('cpu')\n",
        "num_epochs = 10\n",
        "learning_rate = 0.001\n",
        "reg_constant = 0.000005\n",
        "L_norm = 1"
      ]
    },
    {
      "cell_type": "code",
      "execution_count": null,
      "metadata": {
        "id": "tjSpr6jTW4jA"
      },
      "outputs": [],
      "source": [
        "def conv3x3(in_channels, out_channels, stride=1):\n",
        "    return nn.Conv2d(in_channels, out_channels, kernel_size=3, \n",
        "                     stride=stride, padding=1, bias=False)\n",
        "\n",
        "# Residual block\n",
        "class ResidualBlock(nn.Module):\n",
        "    def __init__(self, in_channels, out_channels, stride=1, downsample=None):\n",
        "        super(ResidualBlock, self).__init__()\n",
        "        self.conv1 = conv3x3(in_channels, out_channels, stride)\n",
        "        self.bn1 = nn.BatchNorm2d(out_channels)\n",
        "        self.relu = nn.ReLU(inplace=True)\n",
        "        self.conv2 = conv3x3(out_channels, out_channels)\n",
        "        self.bn2 = nn.BatchNorm2d(out_channels)\n",
        "        self.downsample = downsample\n",
        "\n",
        "    def forward(self, x):\n",
        "        residual = x\n",
        "        out = self.conv1(x)\n",
        "        out = self.bn1(out)\n",
        "        out = self.relu(out)\n",
        "        out = self.conv2(out)\n",
        "        out = self.bn2(out)\n",
        "        if self.downsample:\n",
        "            residual = self.downsample(x)\n",
        "        out += residual\n",
        "        out = self.relu(out)\n",
        "        return out\n",
        "\n",
        "# ResNet\n",
        "class ResNet(nn.Module):\n",
        "    def __init__(self, block, layers, num_classes=10):\n",
        "        super(ResNet, self).__init__()\n",
        "        self.in_channels = 16\n",
        "        self.conv = conv3x3(3, 16)\n",
        "        self.bn = nn.BatchNorm2d(16)\n",
        "        self.relu = nn.ReLU(inplace=True)\n",
        "        self.layer1 = self.make_layer(block, 16, layers[0])\n",
        "        self.layer2 = self.make_layer(block, 32, layers[1], 2)\n",
        "        self.layer3 = self.make_layer(block, 64, layers[2], 2)\n",
        "        self.avg_pool = nn.AvgPool2d(8)\n",
        "        self.fc = nn.Linear(64, num_classes)\n",
        "\n",
        "    def make_layer(self, block, out_channels, blocks, stride=1):\n",
        "        downsample = None\n",
        "        if (stride != 1) or (self.in_channels != out_channels):\n",
        "            downsample = nn.Sequential(\n",
        "                conv3x3(self.in_channels, out_channels, stride=stride),\n",
        "                nn.BatchNorm2d(out_channels))\n",
        "        layers = []\n",
        "        layers.append(block(self.in_channels, out_channels, stride, downsample))\n",
        "        self.in_channels = out_channels\n",
        "        for i in range(1, blocks):\n",
        "            layers.append(block(out_channels, out_channels))\n",
        "        return nn.Sequential(*layers)\n",
        "\n",
        "    def forward(self, x):\n",
        "        out = self.conv(x)\n",
        "        out = self.bn(out)\n",
        "        out = self.relu(out)\n",
        "        out = self.layer1(out)\n",
        "        out = self.layer2(out)\n",
        "        out = self.layer3(out)\n",
        "        out = self.avg_pool(out)\n",
        "        out = out.view(out.size(0), -1)\n",
        "        out = self.fc(out)\n",
        "        return out\n",
        "\n",
        "model1 = ResNet(ResidualBlock, [2, 2, 2]).to(device)\n",
        "model2 = model1\n"
      ]
    },
    {
      "cell_type": "code",
      "execution_count": null,
      "metadata": {
        "colab": {
          "base_uri": "https://localhost:8080/",
          "height": 84,
          "referenced_widgets": [
            "4f6f3ce5a4024c1097ae5c0ec8eb7956",
            "9483f08b865f4935bbaa6f4d94c5ae5f",
            "ec036a1e4c7d4f87b162a373ef664cdd",
            "cbcdbcabeaae4d60a73b11338c0399ec",
            "89c3e21e75794df8b9e20b39e3d071f7",
            "23869aa278554e3f811f0e65ce289dbc",
            "b7259c7e899e40caa3d295b7190e22b3",
            "425628f6e17d45e78a6b772ea7c6b46c",
            "9f99bcfc91bb4b498be3cf038c8debc4",
            "0c2cf3952e9e48b1876af4a137393363",
            "96c85d07ce5c4dc5a120ebcd7c44bac5"
          ]
        },
        "id": "2kSsMUBpMflx",
        "outputId": "ab842e78-a159-4a75-9437-c2a5bebfe866"
      },
      "outputs": [
        {
          "name": "stdout",
          "output_type": "stream",
          "text": [
            "Downloading https://www.cs.toronto.edu/~kriz/cifar-10-python.tar.gz to data/cifar-10-python.tar.gz\n"
          ]
        },
        {
          "data": {
            "application/vnd.jupyter.widget-view+json": {
              "model_id": "4f6f3ce5a4024c1097ae5c0ec8eb7956",
              "version_major": 2,
              "version_minor": 0
            },
            "text/plain": [
              "  0%|          | 0/170498071 [00:00<?, ?it/s]"
            ]
          },
          "metadata": {},
          "output_type": "display_data"
        },
        {
          "name": "stdout",
          "output_type": "stream",
          "text": [
            "Extracting data/cifar-10-python.tar.gz to data/\n"
          ]
        }
      ],
      "source": [
        "# Image preprocessing modules - CIFAR\n",
        "transform = transforms.Compose([\n",
        "    transforms.Pad(4),\n",
        "    transforms.RandomHorizontalFlip(),\n",
        "    transforms.RandomCrop(32),\n",
        "    transforms.ToTensor()])\n",
        "\n",
        "# CIFAR-10 dataset\n",
        "train_dataset1 = torchvision.datasets.CIFAR10(root='data/',\n",
        "                                             train=True, \n",
        "                                             transform=transform,\n",
        "                                             download=True)\n",
        "\n",
        "test_dataset1 = torchvision.datasets.CIFAR10(root='data/',\n",
        "                                            train=False, \n",
        "                                            transform=transforms.ToTensor())\n",
        "\n",
        "# Data loader\n",
        "train_loader1 = torch.utils.data.DataLoader(dataset=train_dataset1,\n",
        "                                           batch_size=100, \n",
        "                                           shuffle=True)\n",
        "\n",
        "test_loader1 = torch.utils.data.DataLoader(dataset=test_dataset1,\n",
        "                                          batch_size=100, \n",
        "                                          shuffle=False)"
      ]
    },
    {
      "cell_type": "code",
      "execution_count": null,
      "metadata": {
        "colab": {
          "base_uri": "https://localhost:8080/",
          "height": 84,
          "referenced_widgets": [
            "81c7fd82202d4479b799f55c74146d0d",
            "c9b3f5992458441996d0c8dd1b981b37",
            "71b793a80d6141df934869e1bfbc4fb1",
            "2b694ca6dff6495c86327559307c46b1",
            "71d7921a22be44e49a08595f0392a343",
            "cbdabe1246764330b078cac3922674b9",
            "085a68a1f66c4520869696e4c2bb4176",
            "dce52e3fa7fd4435bbd776e901891225",
            "56dd73684aea447cb020a218179a259b",
            "1162b0dfaac64ccaae01a65b882a432d",
            "d3d95edfce1c40248ec62935acde8256"
          ]
        },
        "id": "GPwshyVoPKv0",
        "outputId": "8be4d25d-eb73-481a-ad0e-3adf40890171"
      },
      "outputs": [
        {
          "name": "stdout",
          "output_type": "stream",
          "text": [
            "Downloading https://madm.dfki.de/files/sentinel/EuroSAT.zip to data/eurosat/EuroSAT.zip\n"
          ]
        },
        {
          "data": {
            "application/vnd.jupyter.widget-view+json": {
              "model_id": "81c7fd82202d4479b799f55c74146d0d",
              "version_major": 2,
              "version_minor": 0
            },
            "text/plain": [
              "  0%|          | 0/94280567 [00:00<?, ?it/s]"
            ]
          },
          "metadata": {},
          "output_type": "display_data"
        },
        {
          "name": "stdout",
          "output_type": "stream",
          "text": [
            "Extracting data/eurosat/EuroSAT.zip to data/eurosat\n"
          ]
        }
      ],
      "source": [
        "# Image preprocessing modules - EuroSAT\n",
        "transform = transforms.Compose([\n",
        "    transforms.Pad(4),\n",
        "    transforms.RandomHorizontalFlip(),\n",
        "    transforms.RandomCrop(32),\n",
        "    transforms.ToTensor()])\n",
        "\n",
        "# EuroSAT dataset - need to split into training data and test data\n",
        "TEST_SIZE = 0.15 #similar to CIFAR\n",
        "SEED = 42\n",
        "data2 = torchvision.datasets.EuroSAT(root='data/',\n",
        "                                             transform=transform,\n",
        "                                             download=True)\n",
        "\n",
        "# generate indices: instead of the actual data we pass in integers instead\n",
        "train_indices, test_indices, _, _ = train_test_split(\n",
        "    range(len(data2)),\n",
        "    data2.targets,\n",
        "    stratify=data2.targets,\n",
        "    test_size=TEST_SIZE,\n",
        "    random_state=SEED)\n",
        "\n",
        "#Putting them into train/test\n",
        "train_dataset2 = Subset(data2, train_indices)\n",
        "test_dataset2 = Subset(data2, test_indices)\n",
        "\n",
        "# Data loader\n",
        "train_loader2 = torch.utils.data.DataLoader(dataset=train_dataset2,\n",
        "                                           batch_size=100, \n",
        "                                           shuffle=True)\n",
        "\n",
        "test_loader2 = torch.utils.data.DataLoader(dataset=test_dataset2,\n",
        "                                          batch_size=100, \n",
        "                                          shuffle=False)"
      ]
    },
    {
      "cell_type": "code",
      "execution_count": null,
      "metadata": {
        "id": "IIp9G-vsS9tp"
      },
      "outputs": [],
      "source": [
        "# Loss and optimizer - Need to be careful here, something going on here\n",
        "criterion = nn.CrossEntropyLoss()\n",
        "optimizer1 = torch.optim.Adam(model1.parameters(), lr=learning_rate)\n",
        "\n",
        "criterion = nn.CrossEntropyLoss()\n",
        "optimizer2 = torch.optim.Adam(model2.parameters(), lr=learning_rate)\n",
        "\n",
        "# For updating learning rate\n",
        "def update_lr(optimizer, lr):    \n",
        "    for param_group in optimizer.param_groups:\n",
        "        param_group['lr'] = lr\n"
      ]
    },
    {
      "cell_type": "code",
      "execution_count": null,
      "metadata": {
        "colab": {
          "background_save": true,
          "base_uri": "https://localhost:8080/"
        },
        "id": "xnN-OUyaXTM5",
        "outputId": "ec7d00f3-a3a0-43fe-b1b6-78d810e8d038"
      },
      "outputs": [
        {
          "name": "stdout",
          "output_type": "stream",
          "text": [
            "Cifar Epoch [1/10], Step [100/230] Loss: 2.3383\n",
            "Cifar Epoch [1/10], Step [200/230] Loss: 2.2757\n",
            "Cifar Epoch [1/10], Step [300/230] Loss: 2.3620\n",
            "Cifar Epoch [1/10], Step [400/230] Loss: 2.4239\n",
            "Cifar Epoch [1/10], Step [500/230] Loss: 2.3715\n",
            "EuroSAT Epoch [1/10], Step [100/230] Loss: 2.3233\n",
            "EuroSAT Epoch [1/10], Step [200/230] Loss: 2.3881\n",
            "Cifar Epoch [2/10], Step [100/230] Loss: 2.3947\n",
            "Cifar Epoch [2/10], Step [200/230] Loss: 2.4406\n",
            "Cifar Epoch [2/10], Step [300/230] Loss: 2.3983\n",
            "Cifar Epoch [2/10], Step [400/230] Loss: 2.3446\n",
            "Cifar Epoch [2/10], Step [500/230] Loss: 2.4115\n",
            "EuroSAT Epoch [2/10], Step [100/230] Loss: 2.3277\n",
            "EuroSAT Epoch [2/10], Step [200/230] Loss: 2.3668\n",
            "Cifar Epoch [3/10], Step [100/230] Loss: 2.4540\n",
            "Cifar Epoch [3/10], Step [200/230] Loss: 2.4327\n",
            "Cifar Epoch [3/10], Step [300/230] Loss: 2.3895\n",
            "Cifar Epoch [3/10], Step [400/230] Loss: 2.4129\n",
            "Cifar Epoch [3/10], Step [500/230] Loss: 2.3717\n",
            "EuroSAT Epoch [3/10], Step [100/230] Loss: 2.3444\n",
            "EuroSAT Epoch [3/10], Step [200/230] Loss: 2.4194\n",
            "Cifar Epoch [4/10], Step [100/230] Loss: 2.4702\n",
            "Cifar Epoch [4/10], Step [200/230] Loss: 2.3448\n",
            "Cifar Epoch [4/10], Step [300/230] Loss: 2.4008\n",
            "Cifar Epoch [4/10], Step [400/230] Loss: 2.4159\n",
            "Cifar Epoch [4/10], Step [500/230] Loss: 2.3686\n",
            "EuroSAT Epoch [4/10], Step [100/230] Loss: 2.3995\n",
            "EuroSAT Epoch [4/10], Step [200/230] Loss: 2.3140\n",
            "Cifar Epoch [5/10], Step [100/230] Loss: 2.3801\n",
            "Cifar Epoch [5/10], Step [200/230] Loss: 2.4601\n",
            "Cifar Epoch [5/10], Step [300/230] Loss: 2.3781\n",
            "Cifar Epoch [5/10], Step [400/230] Loss: 2.4366\n",
            "Cifar Epoch [5/10], Step [500/230] Loss: 2.4446\n",
            "EuroSAT Epoch [5/10], Step [100/230] Loss: 2.4063\n",
            "EuroSAT Epoch [5/10], Step [200/230] Loss: 2.2975\n",
            "Cifar Epoch [6/10], Step [100/230] Loss: 2.3819\n",
            "Cifar Epoch [6/10], Step [200/230] Loss: 2.4179\n",
            "Cifar Epoch [6/10], Step [300/230] Loss: 2.3240\n",
            "Cifar Epoch [6/10], Step [400/230] Loss: 2.3902\n",
            "Cifar Epoch [6/10], Step [500/230] Loss: 2.4637\n",
            "EuroSAT Epoch [6/10], Step [100/230] Loss: 2.3457\n",
            "EuroSAT Epoch [6/10], Step [200/230] Loss: 2.3866\n",
            "Cifar Epoch [7/10], Step [100/230] Loss: 2.4081\n",
            "Cifar Epoch [7/10], Step [200/230] Loss: 2.4453\n",
            "Cifar Epoch [7/10], Step [300/230] Loss: 2.3801\n",
            "Cifar Epoch [7/10], Step [400/230] Loss: 2.3948\n",
            "Cifar Epoch [7/10], Step [500/230] Loss: 2.3928\n",
            "EuroSAT Epoch [7/10], Step [100/230] Loss: 2.3629\n",
            "EuroSAT Epoch [7/10], Step [200/230] Loss: 2.3633\n",
            "Cifar Epoch [8/10], Step [100/230] Loss: 2.3880\n",
            "Cifar Epoch [8/10], Step [200/230] Loss: 2.3936\n",
            "Cifar Epoch [8/10], Step [300/230] Loss: 2.3932\n",
            "Cifar Epoch [8/10], Step [400/230] Loss: 2.4345\n",
            "Cifar Epoch [8/10], Step [500/230] Loss: 2.3819\n",
            "EuroSAT Epoch [8/10], Step [100/230] Loss: 2.3715\n",
            "EuroSAT Epoch [8/10], Step [200/230] Loss: 2.3467\n",
            "Cifar Epoch [9/10], Step [100/230] Loss: 2.3710\n",
            "Cifar Epoch [9/10], Step [200/230] Loss: 2.4103\n",
            "Cifar Epoch [9/10], Step [300/230] Loss: 2.3876\n",
            "Cifar Epoch [9/10], Step [400/230] Loss: 2.4632\n",
            "Cifar Epoch [9/10], Step [500/230] Loss: 2.3965\n",
            "EuroSAT Epoch [9/10], Step [100/230] Loss: 2.3546\n",
            "EuroSAT Epoch [9/10], Step [200/230] Loss: 2.3265\n",
            "Cifar Epoch [10/10], Step [100/230] Loss: 2.4042\n",
            "Cifar Epoch [10/10], Step [200/230] Loss: 2.3712\n",
            "Cifar Epoch [10/10], Step [300/230] Loss: 2.4241\n",
            "Cifar Epoch [10/10], Step [400/230] Loss: 2.3465\n",
            "Cifar Epoch [10/10], Step [500/230] Loss: 2.4398\n",
            "EuroSAT Epoch [10/10], Step [100/230] Loss: 2.3802\n",
            "EuroSAT Epoch [10/10], Step [200/230] Loss: 2.3880\n"
          ]
        }
      ],
      "source": [
        "# Train the model -Here is the meat: train them simultaneously (so inside epoch loop), optimising for simmilarity\n",
        "# Want to maybe change the regularising coefficient over time? Start by prioritising being a good classifer and then make the regulariser matter more/ making it flip between big and small regulasriser\n",
        "# CUrrently it ends with both models being exactly the same, but only being good at one of the tasks\n",
        "# May want to decrease regularising constant, do the thing above with flipping regularising constant,may even out after a couple epochs once it learns to how to classify CIFAR, could multiply CIFAR loss by something \n",
        "# Maybe also do the thing where I only define the loss by the conv nets? Should be easy\n",
        "\n",
        "m1w = torch.nn.utils.parameters_to_vector(model1.parameters())\n",
        "m2w = torch.nn.utils.parameters_to_vector(model2.parameters())\n",
        "\n",
        "total_step = min(len(train_loader1),len(train_loader2)) #need to maake sure this is same for both models?\n",
        "curr_lr = learning_rate\n",
        "for epoch in range(num_epochs):\n",
        "    for i, (images, labels) in enumerate(train_loader1):\n",
        "        images = images.to(device)\n",
        "        labels = labels.to(device)\n",
        "\n",
        "        # Forward pass\n",
        "        outputs = model1(images)\n",
        "        loss = criterion(outputs, labels) + reg_constant*norm(m2w - torch.nn.utils.parameters_to_vector(model1.parameters()),L_norm) #add + regularisation (but only on conv layers not lin layers)\n",
        "\n",
        "        # Backward and optimize\n",
        "        optimizer1.zero_grad()\n",
        "        loss.backward()\n",
        "        optimizer1.step()\n",
        "\n",
        "        if (i+1) % 100 == 0:\n",
        "            print (\"Cifar Epoch [{}/{}], Step [{}/{}] Loss: {:.4f}\"\n",
        "                   .format(epoch+1, num_epochs, i+1, total_step, loss.item()))\n",
        "\n",
        "    # Decay learning rate\n",
        "    if (epoch+1) % 20 == 0:\n",
        "        curr_lr /= 3\n",
        "        update_lr(optimizer1, curr_lr)\n",
        "\n",
        "    #Store New Weights\n",
        "    m1w = torch.nn.utils.parameters_to_vector(model1.parameters())\n",
        "     \n",
        "    # For EuroSAT\n",
        "    for i, (images, labels) in enumerate(train_loader2):\n",
        "        images = images.to(device)\n",
        "        labels = labels.to(device)\n",
        "\n",
        "        # Forward pass\n",
        "        outputs = model2(images)\n",
        "        loss = criterion(outputs, labels)  + reg_constant*norm(m1w - torch.nn.utils.parameters_to_vector(model2.parameters()),L_norm) #add + regularisation (but only on conv layers not lin layers)\n",
        "\n",
        "        # Backward and optimize\n",
        "        optimizer2.zero_grad()\n",
        "        loss.backward()\n",
        "        optimizer2.step()\n",
        "\n",
        "        if (i+1) % 100 == 0:\n",
        "            print (\"EuroSAT Epoch [{}/{}], Step [{}/{}] Loss: {:.4f}\"\n",
        "                   .format(epoch+1, num_epochs, i+1, total_step, loss.item()))\n",
        "\n",
        "    # Decay learning rate\n",
        "    if (epoch+1) % 20 == 0:\n",
        "        curr_lr /= 3\n",
        "        update_lr(optimizer2, curr_lr)\n",
        "\n",
        "    #Store New Weights\n",
        "    m2w = torch.nn.utils.parameters_to_vector(model2.parameters())"
      ]
    },
    {
      "cell_type": "code",
      "execution_count": null,
      "metadata": {
        "colab": {
          "background_save": true
        },
        "id": "bUNjFMW1ZejA",
        "outputId": "254d3e53-baf8-4d66-9557-633abe5a99c0"
      },
      "outputs": [
        {
          "name": "stdout",
          "output_type": "stream",
          "text": [
            "Accuracy of the CIFAR model on the test images: 10.57 %\n",
            "Accuracy of the EuroSAT model on the test images: 9.876543209876543 %\n"
          ]
        }
      ],
      "source": [
        "# Test the model\n",
        "model1.eval()\n",
        "with torch.no_grad():\n",
        "    correct = 0\n",
        "    total = 0\n",
        "    for images, labels in test_loader1:\n",
        "        images = images.to(device)\n",
        "        labels = labels.to(device)\n",
        "        outputs = model1(images)\n",
        "        _, predicted = torch.max(outputs.data, 1)\n",
        "        total += labels.size(0)\n",
        "        correct += (predicted == labels).sum().item()\n",
        "\n",
        "    print('Accuracy of the CIFAR model on the test images: {} %'.format(100 * correct / total))\n",
        "\n",
        "    model2.eval()\n",
        "with torch.no_grad():\n",
        "    correct = 0\n",
        "    total = 0\n",
        "    for images, labels in test_loader2:\n",
        "        images = images.to(device)\n",
        "        labels = labels.to(device)\n",
        "        outputs = model2(images)\n",
        "        _, predicted = torch.max(outputs.data, 1)\n",
        "        total += labels.size(0)\n",
        "        correct += (predicted == labels).sum().item()\n",
        "\n",
        "    print('Accuracy of the EuroSAT model on the test images: {} %'.format(100 * correct / total))"
      ]
    },
    {
      "cell_type": "code",
      "execution_count": null,
      "metadata": {
        "colab": {
          "background_save": true
        },
        "id": "RvJTRFZndm-f"
      },
      "outputs": [],
      "source": [
        "#Save the model checkpoint\n",
        "torch.save(model1.state_dict(), 'resnet.ckpt')\n",
        "torch.save(model2.state_dict(), 'resnet.ckpt')"
      ]
    },
    {
      "cell_type": "code",
      "execution_count": null,
      "metadata": {
        "id": "3ow3DmzXnO8o"
      },
      "outputs": [],
      "source": [
        "summary(model1,input_size = (1,3,32,32), verbose= 2)\n",
        "model1.parameters"
      ]
    },
    {
      "cell_type": "code",
      "execution_count": null,
      "metadata": {
        "colab": {
          "base_uri": "https://localhost:8080/"
        },
        "id": "bGSVm-9nrmfH",
        "outputId": "da90ea3c-b851-4a36-c4f2-f7b851fb0811"
      },
      "outputs": [
        {
          "data": {
            "text/plain": [
              "[]"
            ]
          },
          "execution_count": 22,
          "metadata": {},
          "output_type": "execute_result"
        }
      ],
      "source": [
        "norm(m1w - m2w)\n",
        "max_dist = 4\n",
        "[i for i,v in enumerate(abs(m1w - m2w)) if v > max_dist] #find indices of edges where differnces in weights are more than a thing\n",
        "# Would be great if I now know how to taken those indices and figure out where they are in terms of layer and stuff"
      ]
    },
    {
      "cell_type": "code",
      "execution_count": null,
      "metadata": {
        "id": "UWLfS-hz0LaN"
      },
      "outputs": [],
      "source": [
        "# model2.layers # Error but ResNet should have attribute layers from its definiton? Thats in init only, think that function does something fancy\n",
        "# Make a copy of it that does have attribute layers which is an array of all the layers\n",
        "class ResNetL(ResNet):\n",
        "  pass "
      ]
    },
    {
      "cell_type": "code",
      "execution_count": null,
      "metadata": {
        "id": "lEJ66Aln80iE"
      },
      "outputs": [],
      "source": [
        "dir(ResNet)"
      ]
    },
    {
      "cell_type": "code",
      "execution_count": null,
      "metadata": {
        "colab": {
          "base_uri": "https://localhost:8080/",
          "height": 321
        },
        "id": "FT7SKL5D_RmU",
        "outputId": "e9074abb-e0d0-486d-f57f-d5c0f715815b"
      },
      "outputs": [
        {
          "ename": "AttributeError",
          "evalue": "ignored",
          "output_type": "error",
          "traceback": [
            "\u001b[0;31m---------------------------------------------------------------------------\u001b[0m",
            "\u001b[0;31mAttributeError\u001b[0m                            Traceback (most recent call last)",
            "\u001b[0;32m<ipython-input-51-79d03df64a10>\u001b[0m in \u001b[0;36m<module>\u001b[0;34m()\u001b[0m\n\u001b[1;32m      1\u001b[0m \u001b[0;32mfrom\u001b[0m \u001b[0mann_visualizer\u001b[0m\u001b[0;34m.\u001b[0m\u001b[0mvisualize\u001b[0m \u001b[0;32mimport\u001b[0m \u001b[0mann_viz\u001b[0m\u001b[0;34m;\u001b[0m\u001b[0;34m\u001b[0m\u001b[0;34m\u001b[0m\u001b[0m\n\u001b[1;32m      2\u001b[0m \u001b[0;34m\u001b[0m\u001b[0m\n\u001b[0;32m----> 3\u001b[0;31m \u001b[0mann_viz\u001b[0m\u001b[0;34m(\u001b[0m\u001b[0mmodel1\u001b[0m\u001b[0;34m.\u001b[0m\u001b[0m__init__\u001b[0m\u001b[0;34m,\u001b[0m \u001b[0mtitle\u001b[0m\u001b[0;34m=\u001b[0m\u001b[0;34m\"My first neural network\"\u001b[0m\u001b[0;34m)\u001b[0m\u001b[0;34m\u001b[0m\u001b[0;34m\u001b[0m\u001b[0m\n\u001b[0m",
            "\u001b[0;32m/usr/local/lib/python3.7/dist-packages/ann_visualizer/visualize.py\u001b[0m in \u001b[0;36mann_viz\u001b[0;34m(model, view, filename, title)\u001b[0m\n\u001b[1;32m     38\u001b[0m     \u001b[0mhidden_layers\u001b[0m \u001b[0;34m=\u001b[0m \u001b[0;34m[\u001b[0m\u001b[0;34m]\u001b[0m\u001b[0;34m;\u001b[0m\u001b[0;34m\u001b[0m\u001b[0;34m\u001b[0m\u001b[0m\n\u001b[1;32m     39\u001b[0m     \u001b[0moutput_layer\u001b[0m \u001b[0;34m=\u001b[0m \u001b[0;36m0\u001b[0m\u001b[0;34m;\u001b[0m\u001b[0;34m\u001b[0m\u001b[0;34m\u001b[0m\u001b[0m\n\u001b[0;32m---> 40\u001b[0;31m     \u001b[0;32mfor\u001b[0m \u001b[0mlayer\u001b[0m \u001b[0;32min\u001b[0m \u001b[0mmodel\u001b[0m\u001b[0;34m.\u001b[0m\u001b[0mlayers\u001b[0m\u001b[0;34m:\u001b[0m\u001b[0;34m\u001b[0m\u001b[0;34m\u001b[0m\u001b[0m\n\u001b[0m\u001b[1;32m     41\u001b[0m         \u001b[0;32mif\u001b[0m\u001b[0;34m(\u001b[0m\u001b[0mlayer\u001b[0m \u001b[0;34m==\u001b[0m \u001b[0mmodel\u001b[0m\u001b[0;34m.\u001b[0m\u001b[0mlayers\u001b[0m\u001b[0;34m[\u001b[0m\u001b[0;36m0\u001b[0m\u001b[0;34m]\u001b[0m\u001b[0;34m)\u001b[0m\u001b[0;34m:\u001b[0m\u001b[0;34m\u001b[0m\u001b[0;34m\u001b[0m\u001b[0m\n\u001b[1;32m     42\u001b[0m             \u001b[0minput_layer\u001b[0m \u001b[0;34m=\u001b[0m \u001b[0mint\u001b[0m\u001b[0;34m(\u001b[0m\u001b[0mstr\u001b[0m\u001b[0;34m(\u001b[0m\u001b[0mlayer\u001b[0m\u001b[0;34m.\u001b[0m\u001b[0minput_shape\u001b[0m\u001b[0;34m)\u001b[0m\u001b[0;34m.\u001b[0m\u001b[0msplit\u001b[0m\u001b[0;34m(\u001b[0m\u001b[0;34m\",\"\u001b[0m\u001b[0;34m)\u001b[0m\u001b[0;34m[\u001b[0m\u001b[0;36m1\u001b[0m\u001b[0;34m]\u001b[0m\u001b[0;34m[\u001b[0m\u001b[0;36m1\u001b[0m\u001b[0;34m:\u001b[0m\u001b[0;34m-\u001b[0m\u001b[0;36m1\u001b[0m\u001b[0;34m]\u001b[0m\u001b[0;34m)\u001b[0m\u001b[0;34m;\u001b[0m\u001b[0;34m\u001b[0m\u001b[0;34m\u001b[0m\u001b[0m\n",
            "\u001b[0;31mAttributeError\u001b[0m: 'function' object has no attribute 'layers'"
          ]
        }
      ],
      "source": [
        "from ann_visualizer.visualize import ann_viz;\n",
        "\n",
        "ann_viz(model1, title=\"My first neural network\")"
      ]
    }
  ],
  "metadata": {
    "colab": {
      "collapsed_sections": [],
      "name": "SimNets1.ipynb",
      "provenance": [],
      "authorship_tag": "ABX9TyMUylCzI5cc/iVnU3gyLSEO",
      "include_colab_link": true
    },
    "kernelspec": {
      "display_name": "Python 3",
      "name": "python3"
    },
    "language_info": {
      "name": "python"
    },
    "widgets": {
      "application/vnd.jupyter.widget-state+json": {
        "085a68a1f66c4520869696e4c2bb4176": {
          "model_module": "@jupyter-widgets/controls",
          "model_module_version": "1.5.0",
          "model_name": "DescriptionStyleModel",
          "state": {
            "_model_module": "@jupyter-widgets/controls",
            "_model_module_version": "1.5.0",
            "_model_name": "DescriptionStyleModel",
            "_view_count": null,
            "_view_module": "@jupyter-widgets/base",
            "_view_module_version": "1.2.0",
            "_view_name": "StyleView",
            "description_width": ""
          }
        },
        "0c2cf3952e9e48b1876af4a137393363": {
          "model_module": "@jupyter-widgets/base",
          "model_module_version": "1.2.0",
          "model_name": "LayoutModel",
          "state": {
            "_model_module": "@jupyter-widgets/base",
            "_model_module_version": "1.2.0",
            "_model_name": "LayoutModel",
            "_view_count": null,
            "_view_module": "@jupyter-widgets/base",
            "_view_module_version": "1.2.0",
            "_view_name": "LayoutView",
            "align_content": null,
            "align_items": null,
            "align_self": null,
            "border": null,
            "bottom": null,
            "display": null,
            "flex": null,
            "flex_flow": null,
            "grid_area": null,
            "grid_auto_columns": null,
            "grid_auto_flow": null,
            "grid_auto_rows": null,
            "grid_column": null,
            "grid_gap": null,
            "grid_row": null,
            "grid_template_areas": null,
            "grid_template_columns": null,
            "grid_template_rows": null,
            "height": null,
            "justify_content": null,
            "justify_items": null,
            "left": null,
            "margin": null,
            "max_height": null,
            "max_width": null,
            "min_height": null,
            "min_width": null,
            "object_fit": null,
            "object_position": null,
            "order": null,
            "overflow": null,
            "overflow_x": null,
            "overflow_y": null,
            "padding": null,
            "right": null,
            "top": null,
            "visibility": null,
            "width": null
          }
        },
        "1162b0dfaac64ccaae01a65b882a432d": {
          "model_module": "@jupyter-widgets/base",
          "model_module_version": "1.2.0",
          "model_name": "LayoutModel",
          "state": {
            "_model_module": "@jupyter-widgets/base",
            "_model_module_version": "1.2.0",
            "_model_name": "LayoutModel",
            "_view_count": null,
            "_view_module": "@jupyter-widgets/base",
            "_view_module_version": "1.2.0",
            "_view_name": "LayoutView",
            "align_content": null,
            "align_items": null,
            "align_self": null,
            "border": null,
            "bottom": null,
            "display": null,
            "flex": null,
            "flex_flow": null,
            "grid_area": null,
            "grid_auto_columns": null,
            "grid_auto_flow": null,
            "grid_auto_rows": null,
            "grid_column": null,
            "grid_gap": null,
            "grid_row": null,
            "grid_template_areas": null,
            "grid_template_columns": null,
            "grid_template_rows": null,
            "height": null,
            "justify_content": null,
            "justify_items": null,
            "left": null,
            "margin": null,
            "max_height": null,
            "max_width": null,
            "min_height": null,
            "min_width": null,
            "object_fit": null,
            "object_position": null,
            "order": null,
            "overflow": null,
            "overflow_x": null,
            "overflow_y": null,
            "padding": null,
            "right": null,
            "top": null,
            "visibility": null,
            "width": null
          }
        },
        "23869aa278554e3f811f0e65ce289dbc": {
          "model_module": "@jupyter-widgets/base",
          "model_module_version": "1.2.0",
          "model_name": "LayoutModel",
          "state": {
            "_model_module": "@jupyter-widgets/base",
            "_model_module_version": "1.2.0",
            "_model_name": "LayoutModel",
            "_view_count": null,
            "_view_module": "@jupyter-widgets/base",
            "_view_module_version": "1.2.0",
            "_view_name": "LayoutView",
            "align_content": null,
            "align_items": null,
            "align_self": null,
            "border": null,
            "bottom": null,
            "display": null,
            "flex": null,
            "flex_flow": null,
            "grid_area": null,
            "grid_auto_columns": null,
            "grid_auto_flow": null,
            "grid_auto_rows": null,
            "grid_column": null,
            "grid_gap": null,
            "grid_row": null,
            "grid_template_areas": null,
            "grid_template_columns": null,
            "grid_template_rows": null,
            "height": null,
            "justify_content": null,
            "justify_items": null,
            "left": null,
            "margin": null,
            "max_height": null,
            "max_width": null,
            "min_height": null,
            "min_width": null,
            "object_fit": null,
            "object_position": null,
            "order": null,
            "overflow": null,
            "overflow_x": null,
            "overflow_y": null,
            "padding": null,
            "right": null,
            "top": null,
            "visibility": null,
            "width": null
          }
        },
        "2b694ca6dff6495c86327559307c46b1": {
          "model_module": "@jupyter-widgets/controls",
          "model_module_version": "1.5.0",
          "model_name": "HTMLModel",
          "state": {
            "_dom_classes": [],
            "_model_module": "@jupyter-widgets/controls",
            "_model_module_version": "1.5.0",
            "_model_name": "HTMLModel",
            "_view_count": null,
            "_view_module": "@jupyter-widgets/controls",
            "_view_module_version": "1.5.0",
            "_view_name": "HTMLView",
            "description": "",
            "description_tooltip": null,
            "layout": "IPY_MODEL_1162b0dfaac64ccaae01a65b882a432d",
            "placeholder": "​",
            "style": "IPY_MODEL_d3d95edfce1c40248ec62935acde8256",
            "value": " 94280567/94280567 [00:20&lt;00:00, 10297653.07it/s]"
          }
        },
        "425628f6e17d45e78a6b772ea7c6b46c": {
          "model_module": "@jupyter-widgets/base",
          "model_module_version": "1.2.0",
          "model_name": "LayoutModel",
          "state": {
            "_model_module": "@jupyter-widgets/base",
            "_model_module_version": "1.2.0",
            "_model_name": "LayoutModel",
            "_view_count": null,
            "_view_module": "@jupyter-widgets/base",
            "_view_module_version": "1.2.0",
            "_view_name": "LayoutView",
            "align_content": null,
            "align_items": null,
            "align_self": null,
            "border": null,
            "bottom": null,
            "display": null,
            "flex": null,
            "flex_flow": null,
            "grid_area": null,
            "grid_auto_columns": null,
            "grid_auto_flow": null,
            "grid_auto_rows": null,
            "grid_column": null,
            "grid_gap": null,
            "grid_row": null,
            "grid_template_areas": null,
            "grid_template_columns": null,
            "grid_template_rows": null,
            "height": null,
            "justify_content": null,
            "justify_items": null,
            "left": null,
            "margin": null,
            "max_height": null,
            "max_width": null,
            "min_height": null,
            "min_width": null,
            "object_fit": null,
            "object_position": null,
            "order": null,
            "overflow": null,
            "overflow_x": null,
            "overflow_y": null,
            "padding": null,
            "right": null,
            "top": null,
            "visibility": null,
            "width": null
          }
        },
        "4f6f3ce5a4024c1097ae5c0ec8eb7956": {
          "model_module": "@jupyter-widgets/controls",
          "model_module_version": "1.5.0",
          "model_name": "HBoxModel",
          "state": {
            "_dom_classes": [],
            "_model_module": "@jupyter-widgets/controls",
            "_model_module_version": "1.5.0",
            "_model_name": "HBoxModel",
            "_view_count": null,
            "_view_module": "@jupyter-widgets/controls",
            "_view_module_version": "1.5.0",
            "_view_name": "HBoxView",
            "box_style": "",
            "children": [
              "IPY_MODEL_9483f08b865f4935bbaa6f4d94c5ae5f",
              "IPY_MODEL_ec036a1e4c7d4f87b162a373ef664cdd",
              "IPY_MODEL_cbcdbcabeaae4d60a73b11338c0399ec"
            ],
            "layout": "IPY_MODEL_89c3e21e75794df8b9e20b39e3d071f7"
          }
        },
        "56dd73684aea447cb020a218179a259b": {
          "model_module": "@jupyter-widgets/controls",
          "model_module_version": "1.5.0",
          "model_name": "ProgressStyleModel",
          "state": {
            "_model_module": "@jupyter-widgets/controls",
            "_model_module_version": "1.5.0",
            "_model_name": "ProgressStyleModel",
            "_view_count": null,
            "_view_module": "@jupyter-widgets/base",
            "_view_module_version": "1.2.0",
            "_view_name": "StyleView",
            "bar_color": null,
            "description_width": ""
          }
        },
        "71b793a80d6141df934869e1bfbc4fb1": {
          "model_module": "@jupyter-widgets/controls",
          "model_module_version": "1.5.0",
          "model_name": "FloatProgressModel",
          "state": {
            "_dom_classes": [],
            "_model_module": "@jupyter-widgets/controls",
            "_model_module_version": "1.5.0",
            "_model_name": "FloatProgressModel",
            "_view_count": null,
            "_view_module": "@jupyter-widgets/controls",
            "_view_module_version": "1.5.0",
            "_view_name": "ProgressView",
            "bar_style": "success",
            "description": "",
            "description_tooltip": null,
            "layout": "IPY_MODEL_dce52e3fa7fd4435bbd776e901891225",
            "max": 94280567,
            "min": 0,
            "orientation": "horizontal",
            "style": "IPY_MODEL_56dd73684aea447cb020a218179a259b",
            "value": 94280567
          }
        },
        "71d7921a22be44e49a08595f0392a343": {
          "model_module": "@jupyter-widgets/base",
          "model_module_version": "1.2.0",
          "model_name": "LayoutModel",
          "state": {
            "_model_module": "@jupyter-widgets/base",
            "_model_module_version": "1.2.0",
            "_model_name": "LayoutModel",
            "_view_count": null,
            "_view_module": "@jupyter-widgets/base",
            "_view_module_version": "1.2.0",
            "_view_name": "LayoutView",
            "align_content": null,
            "align_items": null,
            "align_self": null,
            "border": null,
            "bottom": null,
            "display": null,
            "flex": null,
            "flex_flow": null,
            "grid_area": null,
            "grid_auto_columns": null,
            "grid_auto_flow": null,
            "grid_auto_rows": null,
            "grid_column": null,
            "grid_gap": null,
            "grid_row": null,
            "grid_template_areas": null,
            "grid_template_columns": null,
            "grid_template_rows": null,
            "height": null,
            "justify_content": null,
            "justify_items": null,
            "left": null,
            "margin": null,
            "max_height": null,
            "max_width": null,
            "min_height": null,
            "min_width": null,
            "object_fit": null,
            "object_position": null,
            "order": null,
            "overflow": null,
            "overflow_x": null,
            "overflow_y": null,
            "padding": null,
            "right": null,
            "top": null,
            "visibility": null,
            "width": null
          }
        },
        "81c7fd82202d4479b799f55c74146d0d": {
          "model_module": "@jupyter-widgets/controls",
          "model_module_version": "1.5.0",
          "model_name": "HBoxModel",
          "state": {
            "_dom_classes": [],
            "_model_module": "@jupyter-widgets/controls",
            "_model_module_version": "1.5.0",
            "_model_name": "HBoxModel",
            "_view_count": null,
            "_view_module": "@jupyter-widgets/controls",
            "_view_module_version": "1.5.0",
            "_view_name": "HBoxView",
            "box_style": "",
            "children": [
              "IPY_MODEL_c9b3f5992458441996d0c8dd1b981b37",
              "IPY_MODEL_71b793a80d6141df934869e1bfbc4fb1",
              "IPY_MODEL_2b694ca6dff6495c86327559307c46b1"
            ],
            "layout": "IPY_MODEL_71d7921a22be44e49a08595f0392a343"
          }
        },
        "89c3e21e75794df8b9e20b39e3d071f7": {
          "model_module": "@jupyter-widgets/base",
          "model_module_version": "1.2.0",
          "model_name": "LayoutModel",
          "state": {
            "_model_module": "@jupyter-widgets/base",
            "_model_module_version": "1.2.0",
            "_model_name": "LayoutModel",
            "_view_count": null,
            "_view_module": "@jupyter-widgets/base",
            "_view_module_version": "1.2.0",
            "_view_name": "LayoutView",
            "align_content": null,
            "align_items": null,
            "align_self": null,
            "border": null,
            "bottom": null,
            "display": null,
            "flex": null,
            "flex_flow": null,
            "grid_area": null,
            "grid_auto_columns": null,
            "grid_auto_flow": null,
            "grid_auto_rows": null,
            "grid_column": null,
            "grid_gap": null,
            "grid_row": null,
            "grid_template_areas": null,
            "grid_template_columns": null,
            "grid_template_rows": null,
            "height": null,
            "justify_content": null,
            "justify_items": null,
            "left": null,
            "margin": null,
            "max_height": null,
            "max_width": null,
            "min_height": null,
            "min_width": null,
            "object_fit": null,
            "object_position": null,
            "order": null,
            "overflow": null,
            "overflow_x": null,
            "overflow_y": null,
            "padding": null,
            "right": null,
            "top": null,
            "visibility": null,
            "width": null
          }
        },
        "9483f08b865f4935bbaa6f4d94c5ae5f": {
          "model_module": "@jupyter-widgets/controls",
          "model_module_version": "1.5.0",
          "model_name": "HTMLModel",
          "state": {
            "_dom_classes": [],
            "_model_module": "@jupyter-widgets/controls",
            "_model_module_version": "1.5.0",
            "_model_name": "HTMLModel",
            "_view_count": null,
            "_view_module": "@jupyter-widgets/controls",
            "_view_module_version": "1.5.0",
            "_view_name": "HTMLView",
            "description": "",
            "description_tooltip": null,
            "layout": "IPY_MODEL_23869aa278554e3f811f0e65ce289dbc",
            "placeholder": "​",
            "style": "IPY_MODEL_b7259c7e899e40caa3d295b7190e22b3",
            "value": "100%"
          }
        },
        "96c85d07ce5c4dc5a120ebcd7c44bac5": {
          "model_module": "@jupyter-widgets/controls",
          "model_module_version": "1.5.0",
          "model_name": "DescriptionStyleModel",
          "state": {
            "_model_module": "@jupyter-widgets/controls",
            "_model_module_version": "1.5.0",
            "_model_name": "DescriptionStyleModel",
            "_view_count": null,
            "_view_module": "@jupyter-widgets/base",
            "_view_module_version": "1.2.0",
            "_view_name": "StyleView",
            "description_width": ""
          }
        },
        "9f99bcfc91bb4b498be3cf038c8debc4": {
          "model_module": "@jupyter-widgets/controls",
          "model_module_version": "1.5.0",
          "model_name": "ProgressStyleModel",
          "state": {
            "_model_module": "@jupyter-widgets/controls",
            "_model_module_version": "1.5.0",
            "_model_name": "ProgressStyleModel",
            "_view_count": null,
            "_view_module": "@jupyter-widgets/base",
            "_view_module_version": "1.2.0",
            "_view_name": "StyleView",
            "bar_color": null,
            "description_width": ""
          }
        },
        "b7259c7e899e40caa3d295b7190e22b3": {
          "model_module": "@jupyter-widgets/controls",
          "model_module_version": "1.5.0",
          "model_name": "DescriptionStyleModel",
          "state": {
            "_model_module": "@jupyter-widgets/controls",
            "_model_module_version": "1.5.0",
            "_model_name": "DescriptionStyleModel",
            "_view_count": null,
            "_view_module": "@jupyter-widgets/base",
            "_view_module_version": "1.2.0",
            "_view_name": "StyleView",
            "description_width": ""
          }
        },
        "c9b3f5992458441996d0c8dd1b981b37": {
          "model_module": "@jupyter-widgets/controls",
          "model_module_version": "1.5.0",
          "model_name": "HTMLModel",
          "state": {
            "_dom_classes": [],
            "_model_module": "@jupyter-widgets/controls",
            "_model_module_version": "1.5.0",
            "_model_name": "HTMLModel",
            "_view_count": null,
            "_view_module": "@jupyter-widgets/controls",
            "_view_module_version": "1.5.0",
            "_view_name": "HTMLView",
            "description": "",
            "description_tooltip": null,
            "layout": "IPY_MODEL_cbdabe1246764330b078cac3922674b9",
            "placeholder": "​",
            "style": "IPY_MODEL_085a68a1f66c4520869696e4c2bb4176",
            "value": "100%"
          }
        },
        "cbcdbcabeaae4d60a73b11338c0399ec": {
          "model_module": "@jupyter-widgets/controls",
          "model_module_version": "1.5.0",
          "model_name": "HTMLModel",
          "state": {
            "_dom_classes": [],
            "_model_module": "@jupyter-widgets/controls",
            "_model_module_version": "1.5.0",
            "_model_name": "HTMLModel",
            "_view_count": null,
            "_view_module": "@jupyter-widgets/controls",
            "_view_module_version": "1.5.0",
            "_view_name": "HTMLView",
            "description": "",
            "description_tooltip": null,
            "layout": "IPY_MODEL_0c2cf3952e9e48b1876af4a137393363",
            "placeholder": "​",
            "style": "IPY_MODEL_96c85d07ce5c4dc5a120ebcd7c44bac5",
            "value": " 170498071/170498071 [00:04&lt;00:00, 43497898.02it/s]"
          }
        },
        "cbdabe1246764330b078cac3922674b9": {
          "model_module": "@jupyter-widgets/base",
          "model_module_version": "1.2.0",
          "model_name": "LayoutModel",
          "state": {
            "_model_module": "@jupyter-widgets/base",
            "_model_module_version": "1.2.0",
            "_model_name": "LayoutModel",
            "_view_count": null,
            "_view_module": "@jupyter-widgets/base",
            "_view_module_version": "1.2.0",
            "_view_name": "LayoutView",
            "align_content": null,
            "align_items": null,
            "align_self": null,
            "border": null,
            "bottom": null,
            "display": null,
            "flex": null,
            "flex_flow": null,
            "grid_area": null,
            "grid_auto_columns": null,
            "grid_auto_flow": null,
            "grid_auto_rows": null,
            "grid_column": null,
            "grid_gap": null,
            "grid_row": null,
            "grid_template_areas": null,
            "grid_template_columns": null,
            "grid_template_rows": null,
            "height": null,
            "justify_content": null,
            "justify_items": null,
            "left": null,
            "margin": null,
            "max_height": null,
            "max_width": null,
            "min_height": null,
            "min_width": null,
            "object_fit": null,
            "object_position": null,
            "order": null,
            "overflow": null,
            "overflow_x": null,
            "overflow_y": null,
            "padding": null,
            "right": null,
            "top": null,
            "visibility": null,
            "width": null
          }
        },
        "d3d95edfce1c40248ec62935acde8256": {
          "model_module": "@jupyter-widgets/controls",
          "model_module_version": "1.5.0",
          "model_name": "DescriptionStyleModel",
          "state": {
            "_model_module": "@jupyter-widgets/controls",
            "_model_module_version": "1.5.0",
            "_model_name": "DescriptionStyleModel",
            "_view_count": null,
            "_view_module": "@jupyter-widgets/base",
            "_view_module_version": "1.2.0",
            "_view_name": "StyleView",
            "description_width": ""
          }
        },
        "dce52e3fa7fd4435bbd776e901891225": {
          "model_module": "@jupyter-widgets/base",
          "model_module_version": "1.2.0",
          "model_name": "LayoutModel",
          "state": {
            "_model_module": "@jupyter-widgets/base",
            "_model_module_version": "1.2.0",
            "_model_name": "LayoutModel",
            "_view_count": null,
            "_view_module": "@jupyter-widgets/base",
            "_view_module_version": "1.2.0",
            "_view_name": "LayoutView",
            "align_content": null,
            "align_items": null,
            "align_self": null,
            "border": null,
            "bottom": null,
            "display": null,
            "flex": null,
            "flex_flow": null,
            "grid_area": null,
            "grid_auto_columns": null,
            "grid_auto_flow": null,
            "grid_auto_rows": null,
            "grid_column": null,
            "grid_gap": null,
            "grid_row": null,
            "grid_template_areas": null,
            "grid_template_columns": null,
            "grid_template_rows": null,
            "height": null,
            "justify_content": null,
            "justify_items": null,
            "left": null,
            "margin": null,
            "max_height": null,
            "max_width": null,
            "min_height": null,
            "min_width": null,
            "object_fit": null,
            "object_position": null,
            "order": null,
            "overflow": null,
            "overflow_x": null,
            "overflow_y": null,
            "padding": null,
            "right": null,
            "top": null,
            "visibility": null,
            "width": null
          }
        },
        "ec036a1e4c7d4f87b162a373ef664cdd": {
          "model_module": "@jupyter-widgets/controls",
          "model_module_version": "1.5.0",
          "model_name": "FloatProgressModel",
          "state": {
            "_dom_classes": [],
            "_model_module": "@jupyter-widgets/controls",
            "_model_module_version": "1.5.0",
            "_model_name": "FloatProgressModel",
            "_view_count": null,
            "_view_module": "@jupyter-widgets/controls",
            "_view_module_version": "1.5.0",
            "_view_name": "ProgressView",
            "bar_style": "success",
            "description": "",
            "description_tooltip": null,
            "layout": "IPY_MODEL_425628f6e17d45e78a6b772ea7c6b46c",
            "max": 170498071,
            "min": 0,
            "orientation": "horizontal",
            "style": "IPY_MODEL_9f99bcfc91bb4b498be3cf038c8debc4",
            "value": 170498071
          }
        }
      }
    }
  },
  "nbformat": 4,
  "nbformat_minor": 0
}